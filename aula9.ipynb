{
 "cells": [
  {
   "cell_type": "markdown",
   "metadata": {},
   "source": [
    "## Listas\n",
    "- Declarando uma lista\n",
    "- Manipulação de lista\n",
    "    - Adicionando um novo elemento na lista\n",
    "    - Adicionando elemento em uma posição na lista\n",
    "    - Removendo um elemento da lista\n",
    "    - Mostrando segundo, terceiro e quarto elemento da lista\n",
    "    - Mostrando o ultimo elemento da lista\n",
    "    - Ordenando a lista\n",
    "    - Pesquisando dados em uma lista (in, index, count)\n",
    "    - Copiando uma lista"
   ]
  },
  {
   "cell_type": "code",
   "execution_count": 22,
   "metadata": {},
   "outputs": [
    {
     "name": "stdout",
     "output_type": "stream",
     "text": [
      "O primeiro nome é Alana\n"
     ]
    }
   ],
   "source": [
    "nomes = ['Alana', 'Gabrielle', 'Gih', 'Tchutchyu']\n",
    "\n",
    "# Retornando elemento na lista\n",
    "print(f'O primeiro nome é {nomes[0]}')"
   ]
  },
  {
   "cell_type": "code",
   "execution_count": 21,
   "metadata": {},
   "outputs": [
    {
     "name": "stdout",
     "output_type": "stream",
     "text": [
      "Tchutchyu\n"
     ]
    }
   ],
   "source": [
    "nomes = ['Alana', 'Gabrielle', 'Gih', 'Tchutchyu']\n",
    "\n",
    "# Retornando o último elemento da lista\n",
    "print(nomes[-1])  \n"
   ]
  },
  {
   "cell_type": "code",
   "execution_count": 15,
   "metadata": {},
   "outputs": [
    {
     "name": "stdout",
     "output_type": "stream",
     "text": [
      "O primeiro nome é Alana\n",
      "['Alana', 'Gih', 'Tchutchyu']\n"
     ]
    }
   ],
   "source": [
    "nomes = ['Alana', 'Gabrielle', 'Gih', 'Tchutchyu']\n",
    "\n",
    "# Retornando elemento na lista\n",
    "print(f'O primeiro nome é {nomes[0]}')\n",
    "\n",
    "# Removendo item da lista\n",
    "nomes.remove('Gabrielle') \n",
    "print(nomes)\n",
    "\n"
   ]
  },
  {
   "cell_type": "markdown",
   "metadata": {},
   "source": [
    "Para usar o pop tem que saber exatamente onde está os elementos"
   ]
  },
  {
   "cell_type": "code",
   "execution_count": 20,
   "metadata": {},
   "outputs": [
    {
     "name": "stdout",
     "output_type": "stream",
     "text": [
      "O primeiro nome é Alana\n",
      "['Alana', 'Gih', 'Tchutchyu']\n"
     ]
    }
   ],
   "source": [
    "nomes = ['Alana', 'Gabrielle', 'Gih', 'Tchutchyu']\n",
    "\n",
    "# Retornando elemento na lista\n",
    "print(f'O primeiro nome é {nomes[0]}')\n",
    "\n",
    "# Removendo item da lista com pop\n",
    "nomes.pop(1)\n",
    "print(nomes)"
   ]
  },
  {
   "cell_type": "code",
   "execution_count": 19,
   "metadata": {},
   "outputs": [
    {
     "name": "stdout",
     "output_type": "stream",
     "text": [
      "['Alana', 'Gabrielle', 'Aruna', 'Romeu']\n"
     ]
    }
   ],
   "source": [
    "nomes = ['Alana', 'Gabrielle', 'Gih', 'Tchutchyu','Aruna','Romeu']\n",
    "\n",
    "# Removendo item da lista usando o Del\n",
    "del nomes[2:4]\n",
    "print(nomes)"
   ]
  },
  {
   "cell_type": "code",
   "execution_count": 23,
   "metadata": {},
   "outputs": [
    {
     "name": "stdout",
     "output_type": "stream",
     "text": [
      "['Gih', 'Tchutchyu']\n"
     ]
    }
   ],
   "source": [
    "nomes = ['Alana', 'Gabrielle', 'Gih', 'Tchutchyu','Aruna','Romeu']\n",
    "\n",
    "# Mostrando elementos atraves do intervalo\n",
    "print(nomes[2:4])"
   ]
  },
  {
   "cell_type": "markdown",
   "metadata": {},
   "source": [
    "Adiciona um nome que ainda não possui na lista, porém não escolhe a posição"
   ]
  },
  {
   "cell_type": "code",
   "execution_count": 25,
   "metadata": {},
   "outputs": [
    {
     "name": "stdout",
     "output_type": "stream",
     "text": [
      "['Alana', 'Gabrielle', 'Gih', 'Tchutchyu', 'Aruna', 'Romeu', 'Surya']\n"
     ]
    }
   ],
   "source": [
    "nomes = ['Alana', 'Gabrielle', 'Gih', 'Tchutchyu','Aruna','Romeu']\n",
    "\n",
    "# Adicionando um novo item a lista\n",
    "nomes.append('Surya')\n",
    "print(nomes)"
   ]
  },
  {
   "cell_type": "markdown",
   "metadata": {},
   "source": [
    "Adicionando um item a lista com o insert, você escolhe a posição que ele vai estar."
   ]
  },
  {
   "cell_type": "code",
   "execution_count": 26,
   "metadata": {},
   "outputs": [
    {
     "name": "stdout",
     "output_type": "stream",
     "text": [
      "['Alana', 'Gabrielle', 'Surya', 'Gih', 'Tchutchyu', 'Aruna', 'Romeu']\n"
     ]
    }
   ],
   "source": [
    "nomes = ['Alana', 'Gabrielle', 'Gih', 'Tchutchyu','Aruna','Romeu']\n",
    "\n",
    "# Adicionando um novo item a lista e escolhendo a posição\n",
    "nomes.insert(2, 'Surya')\n",
    "print(nomes)"
   ]
  },
  {
   "cell_type": "code",
   "execution_count": 33,
   "metadata": {},
   "outputs": [
    {
     "name": "stdout",
     "output_type": "stream",
     "text": [
      "1° nome da lista : Alana\n",
      "2° nome da lista : Gabrielle\n",
      "3° nome da lista : Gih\n",
      "4° nome da lista : Tchutchyu\n",
      "5° nome da lista : Aruna\n",
      "6° nome da lista : Romeu\n",
      "\n",
      "============================== Lista atualizada ==============================\n",
      "1° nome da lista: Alana\n",
      "2° nome da lista: Gabrielle\n",
      "3° nome da lista: Gih\n",
      "4° nome da lista: Crementina\n",
      "5° nome da lista: Tchutchyu\n",
      "6° nome da lista: Aruna\n",
      "7° nome da lista: Romeu\n"
     ]
    }
   ],
   "source": [
    "nomes = ['Alana', 'Gabrielle', 'Gih', 'Tchutchyu','Aruna','Romeu']\n",
    "\n",
    "for i in  range(len(nomes)):\n",
    "    print(f'{i + 1}° nome da lista : {nomes[i]}')\n",
    "\n",
    "# Recebendo novo nome para adicionar na lista\n",
    "novo_nome = input(\"Digite um novo nome a ser adicionado na lista: \")\n",
    "\n",
    "# Recebendo uma posição para adicionar na lista\n",
    "posicao = input('Informe a posição desejada para adicionar o novo nome: ' )\n",
    "posicao = int(posicao)\n",
    "\n",
    "# Corrigindo a posição dos índices\n",
    "posicao -= 1\n",
    "if posicao >= 0 and posicao <= len(nomes):\n",
    "    nomes.insert(posicao, novo_nome)\n",
    "else:\n",
    "    print('Posição invalida')\n",
    "\n",
    "print()\n",
    "print(30*'=', 'Lista atualizada', 30*'=')\n",
    "for i in range(len(nomes)):\n",
    "\n",
    "    print(f'{i + 1}° nome da lista: {nomes[i]}')\n",
    "\n"
   ]
  },
  {
   "cell_type": "code",
   "execution_count": 35,
   "metadata": {},
   "outputs": [
    {
     "name": "stdout",
     "output_type": "stream",
     "text": [
      "['Alana', 'Crementina', 'Gih', 'Tchutchyu', 'Aruna', 'Romeu']\n"
     ]
    }
   ],
   "source": [
    "nomes = ['Alana', 'Gabrielle', 'Gih', 'Tchutchyu','Aruna','Romeu']\n",
    "\n",
    "# Substituição de itens na lista\n",
    "nomes[1] = 'Crementina'\n",
    "print(nomes)"
   ]
  },
  {
   "cell_type": "markdown",
   "metadata": {},
   "source": [
    ".sort serve para organizar"
   ]
  },
  {
   "cell_type": "code",
   "execution_count": 42,
   "metadata": {},
   "outputs": [
    {
     "name": "stdout",
     "output_type": "stream",
     "text": [
      "Lista desordenada: [10, 7, 5, 9, 8, 6, 2, 3, 1, 4]\n",
      "Lista ordenada : [1, 2, 3, 4, 5, 6, 7, 8, 9, 10]\n"
     ]
    }
   ],
   "source": [
    "lista1 = [10,7,5,9,8,6,2,3,1,4]\n",
    "\n",
    "# Lista ordenada crescente\n",
    "print(f'Lista desordenada: {lista1}')\n",
    "lista1.sort()\n",
    "print(f'Lista ordenada : {lista1}')"
   ]
  },
  {
   "cell_type": "code",
   "execution_count": 41,
   "metadata": {},
   "outputs": [
    {
     "name": "stdout",
     "output_type": "stream",
     "text": [
      "Lista desordenada: [10, 7, 5, 9, 8, 6, 2, 3, 1, 4]\n",
      "Lista ordenada Decrescente: [10, 9, 8, 7, 6, 5, 4, 3, 2, 1]\n"
     ]
    }
   ],
   "source": [
    "\n",
    "lista1 = [10,7,5,9,8,6,2,3,1,4]\n",
    "\n",
    "# Lista ordenada decrescente\n",
    "print(f'Lista desordenada: {lista1}')\n",
    "lista1.sort(reverse=True)\n",
    "print(f'Lista ordenada Decrescente: {lista1}')"
   ]
  }
 ],
 "metadata": {
  "kernelspec": {
   "display_name": ".venv",
   "language": "python",
   "name": "python3"
  },
  "language_info": {
   "codemirror_mode": {
    "name": "ipython",
    "version": 3
   },
   "file_extension": ".py",
   "mimetype": "text/x-python",
   "name": "python",
   "nbconvert_exporter": "python",
   "pygments_lexer": "ipython3",
   "version": "3.12.4"
  }
 },
 "nbformat": 4,
 "nbformat_minor": 2
}
