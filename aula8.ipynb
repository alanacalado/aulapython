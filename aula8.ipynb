{
 "cells": [
  {
   "cell_type": "markdown",
   "metadata": {},
   "source": [
    "O laço 'for' é um dos loops mais usado na programação.É um laço de repetição como o anterior também,mas com uma diferença: é sempre executado com um número finito de vezes,evitando que o programa entre em loop infinito.A desvantagem em relação so while é que o número de loops dessa vez é ditado pelo prórpio programa ao invés do usuário final.Este, por sua vez, não possui controle sobre o número de loops a ser executado no for, ou pelo menos não diretamente.Para fins de exemplo, vamos executar um programa parecido com o primeiro programa dessa aula, mas desta vez, o programa irá exibir números de 0 a 4.Segue algoritmo:"
   ]
  },
  {
   "cell_type": "code",
   "execution_count": 1,
   "metadata": {},
   "outputs": [
    {
     "name": "stdout",
     "output_type": "stream",
     "text": [
      "A\n",
      "l\n",
      "a\n",
      "n\n",
      "a\n"
     ]
    }
   ],
   "source": [
    "nome = 'Alana'\n",
    "for n in nome:\n",
    "    print (n)"
   ]
  },
  {
   "cell_type": "code",
   "execution_count": 4,
   "metadata": {},
   "outputs": [
    {
     "name": "stdout",
     "output_type": "stream",
     "text": [
      "Gabrielle\n",
      "Alana\n",
      "Margarete\n",
      "Joana\n"
     ]
    }
   ],
   "source": [
    "nome = {'Alana','Gabrielle','Margarete','Joana'}\n",
    "for n in nome:\n",
    "    print(n)"
   ]
  },
  {
   "cell_type": "code",
   "execution_count": 7,
   "metadata": {},
   "outputs": [
    {
     "name": "stdout",
     "output_type": "stream",
     "text": [
      "0\n",
      "2\n",
      "4\n",
      "6\n",
      "8\n",
      "10\n",
      "12\n",
      "14\n",
      "16\n",
      "18\n",
      "20\n"
     ]
    }
   ],
   "source": [
    "nome = {'Alana','Gabrielle','Margarete','Joana'}\n",
    "#for n in nome:\n",
    "# print(n)\n",
    "\n",
    "for i in range(0,21):\n",
    "    if i % 2 == 0:\n",
    "        print(i)"
   ]
  },
  {
   "cell_type": "code",
   "execution_count": 10,
   "metadata": {},
   "outputs": [
    {
     "name": "stdout",
     "output_type": "stream",
     "text": [
      "20\n",
      "21\n",
      "22\n",
      "23\n",
      "24\n",
      "25\n",
      "26\n",
      "27\n",
      "28\n",
      "29\n",
      "30\n",
      "31\n",
      "32\n",
      "33\n",
      "34\n",
      "35\n",
      "36\n",
      "37\n",
      "38\n",
      "39\n"
     ]
    }
   ],
   "source": [
    "termo = int(input('Digite o primeiro termo: '))\n",
    "razao = int(input('Digite a razão: '))\n",
    "\n",
    "pa = termo + (20 - 1) * razao\n",
    "\n",
    "for i in range(termo, pa + razao, razao):\n",
    "    print(i)"
   ]
  },
  {
   "cell_type": "code",
   "execution_count": null,
   "metadata": {},
   "outputs": [],
   "source": [
    "altura = 20\n",
    "espacamento = 0 \n",
    "asterisco = 1 \n",
    "símbolo = '*'\n",
    "for i in  range(altura):\n",
    "    espacamento = altura - i - 1\n",
    "\n",
    "    for j in range(espacamento):\n",
    "        print('',end='')\n",
    "\n",
    "    for k in range(asterisco):\n",
    "        print(simbolo,end='')\n",
    "    \n",
    "    print()\n",
    "    asterisco +=2"
   ]
  },
  {
   "cell_type": "code",
   "execution_count": null,
   "metadata": {},
   "outputs": [],
   "source": [
    "nome = {'Alana','Gabrielle','Margarete','Joana'}\n",
    "lista = {}\n",
    "#for n in nome:\n",
    "# print(n)\n",
    "\n",
    "for i in range(0,21):\n",
    "    if i % 2 == 0:\n",
    "        print(i)"
   ]
  }
 ],
 "metadata": {
  "kernelspec": {
   "display_name": ".venv",
   "language": "python",
   "name": "python3"
  },
  "language_info": {
   "codemirror_mode": {
    "name": "ipython",
    "version": 3
   },
   "file_extension": ".py",
   "mimetype": "text/x-python",
   "name": "python",
   "nbconvert_exporter": "python",
   "pygments_lexer": "ipython3",
   "version": "3.12.4"
  }
 },
 "nbformat": 4,
 "nbformat_minor": 2
}
