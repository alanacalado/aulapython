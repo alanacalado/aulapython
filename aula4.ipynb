{
 "cells": [
  {
   "cell_type": "code",
   "execution_count": 1,
   "metadata": {},
   "outputs": [
    {
     "name": "stdout",
     "output_type": "stream",
     "text": [
      "Valor da divisão é igual a: 5.0\n",
      "Valor da divisão inteira é igual a: 5\n",
      "Resto: 0\n",
      "Exponenciação: 3375\n"
     ]
    }
   ],
   "source": [
    "n1 = int(input('Digite o primeiro numéro:'))\n",
    "n2 = int(input('Digite o segundo número'))\n",
    "\n",
    "n1 = int(n1)\n",
    "n2 = int(n2)\n",
    "\n",
    "divisao_inteira = n1 // n2\n",
    "divisao = n1 / n2\n",
    "resto = n1 % n2\n",
    "expo = n1 ** n2\n",
    "\n",
    "print(f'Valor da divisão é igual a: {divisao}')\n",
    "\n",
    "print(f'Valor da divisão inteira é igual a: {divisao_inteira}')\n",
    "\n",
    "print(f'Resto: {resto}')\n",
    "\n",
    "print(f'Exponenciação: {expo}')"
   ]
  },
  {
   "cell_type": "code",
   "execution_count": 1,
   "metadata": {},
   "outputs": [
    {
     "name": "stdout",
     "output_type": "stream",
     "text": [
      "Resultado de atribuição de subtração : 0\n",
      "Resultado de atribuição de soma : 10\n",
      "Resultado de atribuição de multiplicação : 100\n",
      "Resultado de atribuição de divisão : 10.0\n",
      "Resultado de atribuição de divisão inteira : 1.0\n",
      "Resultado de atribuição de modulo : 1.0\n"
     ]
    }
   ],
   "source": [
    "# Atribuição de subtração\n",
    "valor = 10\n",
    "valor -= 10\n",
    "print(f'Resultado de atribuição de subtração : {valor}')\n",
    "\n",
    "#Atribuição de soma\n",
    "valor += 10\n",
    "print(f'Resultado de atribuição de soma : {valor}')\n",
    "\n",
    "#Atribuição de multiplicação\n",
    "valor *= 10\n",
    "print(f'Resultado de atribuição de multiplicação : {valor}')\n",
    "\n",
    "#Atribuição de divisão\n",
    "valor /= 10\n",
    "print(f'Resultado de atribuição de divisão : {valor}')\n",
    " \n",
    "#Atribuição de divisão inteira\n",
    "valor //= 10\n",
    "print(f'Resultado de atribuição de divisão inteira : {valor}')\n",
    "\n",
    "#Atribuição de modulo\n",
    "valor %= 10\n",
    "print(f'Resultado de atribuição de modulo : {valor}')"
   ]
  },
  {
   "cell_type": "markdown",
   "metadata": {},
   "source": [
    "# Atividade\n",
    "\n",
    "- Crie um programa de Boletim de notas do aluno. Guarde o nome do aluno, as notas e calcule a média final do aluno.\n",
    "- Disciplinas:\n",
    "  - Matemática\n",
    "  - Português\n",
    "  - Geografia\n",
    "  - Historia\n",
    "  - Física\n",
    "\n",
    "-Ao obter as notas e a média das notas,imprima o boletim do aluno informando as notas das materias e com quanto ele ficou de média."
   ]
  },
  {
   "cell_type": "code",
   "execution_count": 10,
   "metadata": {},
   "outputs": [
    {
     "name": "stdout",
     "output_type": "stream",
     "text": [
      "BOLETIM ESCOLAR DO(A) ALUNO(A) Alana Calado\n",
      "Nota de Matemática: 9.5\n",
      "Nota de Português : 8.0\n",
      "Nota de Geografia : 7.0\n",
      "Nota de Historia : 8.6\n",
      "Nota de Fisica : 6.0\n",
      "A média geral do aluno é: 7.82\n"
     ]
    }
   ],
   "source": [
    "aluno = input('Insira o nome do Aluno: ')\n",
    "sobrenome = input('Insira o sobrenome do aluno: ')\n",
    "\n",
    "print(f'BOLETIM ESCOLAR DO(A) ALUNO(A) {aluno} {sobrenome}')\n",
    "\n",
    "matematica = input('Insira a nota de matemática: ')\n",
    "matematica = float(matematica)\n",
    "print(f'Nota de Matemática: {matematica}')\n",
    "\n",
    "portugues = input('Insira a nota de Português:')\n",
    "portugues = float(portugues)\n",
    "print(f'Nota de Português : {portugues}')\n",
    "\n",
    "geografia = input('Insira a nota de Geografia:')\n",
    "geografia = float(geografia)\n",
    "print(f'Nota de Geografia : {geografia}')\n",
    "\n",
    "historia = input('Insira a nota de Historia:')\n",
    "historia = float(historia)\n",
    "print(f'Nota de Historia : {historia}')\n",
    "\n",
    "fisica = input('Insira a nota de Fisica:')\n",
    "fisica = float(fisica)\n",
    "print(f'Nota de Fisica : {fisica}')\n",
    "\n",
    "\n",
    "soma = matematica + portugues + geografia + historia + fisica \n",
    "media = soma / 5\n",
    "\n",
    "print(f'A média geral do aluno é: {media}')"
   ]
  }
 ],
 "metadata": {
  "kernelspec": {
   "display_name": ".venv",
   "language": "python",
   "name": "python3"
  },
  "language_info": {
   "codemirror_mode": {
    "name": "ipython",
    "version": 3
   },
   "file_extension": ".py",
   "mimetype": "text/x-python",
   "name": "python",
   "nbconvert_exporter": "python",
   "pygments_lexer": "ipython3",
   "version": "3.12.4"
  }
 },
 "nbformat": 4,
 "nbformat_minor": 2
}
