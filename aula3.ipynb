{
 "cells": [
  {
   "cell_type": "code",
   "execution_count": null,
   "metadata": {},
   "outputs": [],
   "source": []
  },
  {
   "cell_type": "markdown",
   "metadata": {},
   "source": [
    "## Revisão aula 01/07/2024\n",
    "-Declaração de variável\n",
    "  - Como declaro uma variável ?\n",
    "  - Como converter o tipo de variável\n",
    "  - Como restringir uma variável\n",
    "-Concatenação\n",
    " -Qual a excessão usando a concatenação +\n",
    "- Algoritmo\n",
    " -Sequencia lógica de instruções para resolver um problema específico "
   ]
  },
  {
   "cell_type": "markdown",
   "metadata": {},
   "source": [
    "# git init\n",
    "  - iniciar um novo repositório\n",
    "# git status\n",
    "  - verificar o estado de atualização de repositório\n",
    "# git add\n",
    "  - adiciona as atualizações para ser feito o commit\n",
    "# git commit -m\n",
    " "
   ]
  }
 ],
 "metadata": {
  "language_info": {
   "name": "python"
  }
 },
 "nbformat": 4,
 "nbformat_minor": 2
}
