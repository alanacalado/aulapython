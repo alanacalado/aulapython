{
 "cells": [
  {
   "cell_type": "code",
   "execution_count": null,
   "metadata": {},
   "outputs": [],
   "source": []
  },
  {
   "cell_type": "markdown",
   "metadata": {},
   "source": [
    "## Revisão aula 01/07/2024\n",
    "-Declaração de variável\n",
    "  - Como declaro uma variável ?\n",
    "  - Como converter o tipo de variável\n",
    "  - Como restringir uma variável\n",
    "-Concatenação\n",
    " -Qual a excessão usando a concatenação +\n",
    "- Algoritmo\n",
    " -Sequencia lógica de instruções para resolver um problema específico "
   ]
  },
  {
   "cell_type": "markdown",
   "metadata": {},
   "source": [
    "# git init\n",
    "  - iniciar um novo repositório\n",
    "# git status\n",
    "  - verificar o estado de atualização de repositório\n",
    "# git add\n",
    "  - adiciona as atualizações para ser feito o commit\n",
    "# git commit -m \"identificacao do comite\"\n",
    " - commita as informações (salva uma versão do repositório)\n",
    " "
   ]
  },
  {
   "cell_type": "code",
   "execution_count": 7,
   "metadata": {},
   "outputs": [
    {
     "name": "stdout",
     "output_type": "stream",
     "text": [
      "usando como concatenação: 1010\n",
      "usando como soma 20\n",
      "O resultado da soma é 70\n",
      "Resultado da subtração: 30\n",
      "Resultado da multipliação: 1000\n",
      "Resultado da divisão:2.5\n"
     ]
    }
   ],
   "source": [
    "#Somando 2 numéros em uma váriavel \n",
    "soma = 10 + 10\n",
    "\n",
    "print('usando como concatenação: 10'+'10')\n",
    "print('usando como soma',10+10)\n",
    "\n",
    "num1 = 50\n",
    "num2 = 20\n",
    "\n",
    "# Somando variáveis \n",
    "soma = num1 + num2\n",
    "print('O resultado da soma é',soma)\n",
    "\n",
    "# Subtração\n",
    "subtracao = num1 - num2\n",
    "print(f'Resultado da subtração: {subtracao}')\n",
    "\n",
    "# Multiplicação\n",
    "multiplicacao = num1 * num2\n",
    "print(f'Resultado da multipliação: {multiplicacao}')\n",
    "\n",
    "#Divisão\n",
    "divisao = num1 / num2\n",
    "print(f'Resultado da divisão:{divisao}')\n"
   ]
  },
  {
   "cell_type": "markdown",
   "metadata": {},
   "source": [
    "## Atividade\n",
    "\n",
    "- Declare 2 variáveis, cada uma com um valor, e some os resultados concatenados a um texto.\n",
    "- Crie um sistema onde o usuário irá inserir dois valores, guarde cada valor em variáveis, em seguida vocês irão realizar as 4 operações básicas de matematica (+; -:*; /) e mostrar esses resultados na tela, tambem concatenados a um texto indicativo de cada operação.\n",
    "- Crie um sistema que receba o nome de usuário, a idade só podendo aceitar número inteiro,em seguida mostre o nome e idade do usuário e peça que ele digite 2 números para que sejam somados. Mostrar por último a soma realizada para o usuário."
   ]
  },
  {
   "cell_type": "code",
   "execution_count": 8,
   "metadata": {},
   "outputs": [
    {
     "name": "stdout",
     "output_type": "stream",
     "text": [
      "A soma das variáveis é igual 90\n"
     ]
    }
   ],
   "source": [
    "#Atividade 1 \n",
    "\n",
    "num1 = 60\n",
    "num2 = 30\n",
    "\n",
    "soma = num1 + num2 \n",
    "print(f'A soma das variáveis é igual {soma}')\n"
   ]
  },
  {
   "cell_type": "code",
   "execution_count": 2,
   "metadata": {},
   "outputs": [
    {
     "name": "stdout",
     "output_type": "stream",
     "text": [
      "Valor da soma é igual a : 35 \n",
      "Valor da subtração é igual a : -5\n",
      "Valor da multiplicação é igual a: 300\n",
      "Valor da divisão é igual a: 0.75\n"
     ]
    }
   ],
   "source": [
    "#Atividade2\n",
    "num1 = int(input('digite o num1: '))\n",
    "num2 = int(input('digite o num2: '))\n",
    "\n",
    "soma = num1 + num2\n",
    "print(f'Valor da soma é igual a : {soma} ')\n",
    "\n",
    "subtracao = num1 - num2\n",
    "print(f'Valor da subtração é igual a : {subtracao}')\n",
    "\n",
    "multiplicacao = num1 * num2\n",
    "print(f'Valor da multiplicação é igual a: {multiplicacao}')\n",
    "\n",
    "divisao = num1 / num2\n",
    "print(f'Valor da divisão é igual a: {divisao}')\n"
   ]
  },
  {
   "cell_type": "code",
   "execution_count": 4,
   "metadata": {},
   "outputs": [
    {
     "name": "stdout",
     "output_type": "stream",
     "text": [
      "Olá meu nome é Alana, tenho 22 anos de idade. O resultado da soma dos números 30 e 15 é igual a : 45\n"
     ]
    }
   ],
   "source": [
    "#Atividade3\n",
    "nome = input('Digite seu nome: ')\n",
    "idade = int(input('Digite sua idade: '))\n",
    "numero1 = int(input('Digite o primeiro numéro:'))\n",
    "numero2 = int(input('Digite o segundo número'))\n",
    "soma = numero1 + numero2\n",
    "\n",
    "print(f'Olá meu nome é {nome}, tenho {idade} anos de idade. O resultado da soma dos números {numero1} e {numero2} é igual a : {soma}')"
   ]
  },
  {
   "cell_type": "code",
   "execution_count": 2,
   "metadata": {},
   "outputs": [
    {
     "name": "stdout",
     "output_type": "stream",
     "text": [
      "Valor da divisão é igual a: 2.5\n",
      "Valor da divisão inteira é igual a: 2\n",
      "Resto: 2\n",
      "Exponenciação: 10000\n"
     ]
    }
   ],
   "source": [
    "n1 = int(input('Digite o primeiro numéro:'))\n",
    "n2 = int(input('Digite o segundo número'))\n",
    "\n",
    "n1 = int(n1)\n",
    "n2 = int(n2)\n",
    "\n",
    "divisao_inteira = n1 // n2\n",
    "divisao = n1 / n2\n",
    "resto = n1 % n2\n",
    "expo = n1 ** n2\n",
    "\n",
    "print(f'Valor da divisão é igual a: {divisao}')\n",
    "\n",
    "print(f'Valor da divisão inteira é igual a: {divisao_inteira}')\n",
    "\n",
    "print(f'Resto: {resto}')\n",
    "\n",
    "print(f'Exponenciação: {expo}')"
   ]
  },
  {
   "cell_type": "code",
   "execution_count": 4,
   "metadata": {},
   "outputs": [
    {
     "name": "stdout",
     "output_type": "stream",
     "text": [
      "Resultado de atribuição de subtração : 0\n",
      "Resultado de atribuição de soma : 10\n",
      "Resultado de atribuição de multiplicação : 100\n",
      "Resultado de atribuição de divisão : 10.0\n",
      "Resultado de atribuição de divisão inteira : 1.0\n"
     ]
    }
   ],
   "source": [
    "# Atribuição de subtração\n",
    "valor = 10\n",
    "valor -= 10\n",
    "print(f'Resultado de atribuição de subtração : {valor}')\n",
    "\n",
    "#Atribuição de soma\n",
    "valor += 10\n",
    "print(f'Resultado de atribuição de soma : {valor}')\n",
    "\n",
    "#Atribuição de multiplicação\n",
    "valor *= 10\n",
    "print(f'Resultado de atribuição de multiplicação : {valor}')\n",
    "\n",
    "#Atribuição de divisão\n",
    "valor /= 10\n",
    "print(f'Resultado de atribuição de divisão : {valor}')\n",
    " \n",
    "#Atribuição de divisão inteira\n",
    "valor //= 10\n",
    "print(f'Resultado de atribuição de divisão inteira : {valor}')"
   ]
  }
 ],
 "metadata": {
  "kernelspec": {
   "display_name": ".venv",
   "language": "python",
   "name": "python3"
  },
  "language_info": {
   "codemirror_mode": {
    "name": "ipython",
    "version": 3
   },
   "file_extension": ".py",
   "mimetype": "text/x-python",
   "name": "python",
   "nbconvert_exporter": "python",
   "pygments_lexer": "ipython3",
   "version": "3.12.4"
  }
 },
 "nbformat": 4,
 "nbformat_minor": 2
}
