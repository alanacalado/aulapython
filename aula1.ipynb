{
 "cells": [
  {
   "cell_type": "markdown",
   "metadata": {},
   "source": [
    "# Python Essencial"
   ]
  },
  {
   "cell_type": "markdown",
   "metadata": {},
   "source": [
    "- Algoritmo\n",
    "- Comentários\n",
    "- Variável\n",
    "- Estrutura de Seleção\n",
    "- Git\n",
    "- GitHub\n",
    "- Compartilhar Notebook no GitHub"
   ]
  },
  {
   "cell_type": "markdown",
   "metadata": {},
   "source": [
    "###  CAP.1 - Algoritmo para Fritar um Ovo\n",
    "##### Introdução\n",
    "###### Passo a Passo para realizar uma determinada tarefa\n",
    "###### O algoritmo é uma sequência para realizar uma determinada tarefa. Por exemplo, fritar um ovo. Quais são os passos para fritar um ovo :\n",
    "- Passo 1 : Pegar o ovo na geladeira\n",
    "- Passo 2 : Pegar a frigideira\n",
    "- Passo 3 : Colocar a frigideira no fogão\n",
    "- Passo 4 : Ligar o fogo\n",
    "- Passo 5 : Pegar a manteiga\n",
    "- Passo 6 : Colocar a manteiga na frigideira\n",
    "- Passo 7 : Quebrar o ovo na frigideira\n",
    "- Passo 8 : Colocar o sal\n",
    "- Passo 9 : Esperar o ovo fritar\n",
    "- Passo 10 : Comer o ovo"
   ]
  },
  {
   "cell_type": "code",
   "execution_count": null,
   "metadata": {},
   "outputs": [],
   "source": []
  }
 ],
 "metadata": {
  "language_info": {
   "name": "python"
  }
 },
 "nbformat": 4,
 "nbformat_minor": 2
}
