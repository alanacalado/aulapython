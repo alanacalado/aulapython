{
 "cells": [
  {
   "cell_type": "code",
   "execution_count": 2,
   "metadata": {},
   "outputs": [
    {
     "name": "stdout",
     "output_type": "stream",
     "text": [
      "CPF já está cadastrado\n"
     ]
    }
   ],
   "source": [
    "lista_cpf = ['111.222.333-24', '222.333.444-34', '333.444.555-45', '555.777.888-68']\n",
    "\n",
    "novo_cpf = input('Digite um novo cpf: ')\n",
    "\n",
    "if novo_cpf in lista_cpf:\n",
    "    print('CPF já está cadastrado')\n",
    "else:\n",
    "    lista_cpf.append(novo_cpf)\n",
    "    print('CPF cadastrado com sucesso!')"
   ]
  },
  {
   "cell_type": "code",
   "execution_count": 1,
   "metadata": {},
   "outputs": [
    {
     "name": "stdout",
     "output_type": "stream",
     "text": [
      "============================== BEM VINDO AO PYTHON CADASTRO ==============================\n",
      "1. Cadastrar um novo usuário\n",
      "2. Acessar o Sistema\n",
      "3. Listar os usuários\n",
      "4. Excluir o usuário\n",
      "5. Sair\n",
      "Lista de Usuários!\n",
      "Usuário: Crementina\n",
      "Usuário: Judenilson\n",
      "Usuário: Claudete\n",
      "Usuário: Klodoaudo\n",
      "============================== BEM VINDO AO PYTHON CADASTRO ==============================\n",
      "1. Cadastrar um novo usuário\n",
      "2. Acessar o Sistema\n",
      "3. Listar os usuários\n",
      "4. Excluir o usuário\n",
      "5. Sair\n",
      "Opção Invalida!\n",
      "============================== BEM VINDO AO PYTHON CADASTRO ==============================\n",
      "1. Cadastrar um novo usuário\n",
      "2. Acessar o Sistema\n",
      "3. Listar os usuários\n",
      "4. Excluir o usuário\n",
      "5. Sair\n",
      "Saindo do sistema!\n",
      "Você está fora do sistema!\n"
     ]
    }
   ],
   "source": []
  },
  {
   "cell_type": "code",
   "execution_count": null,
   "metadata": {},
   "outputs": [],
   "source": [
    "import time \n",
    "lista_cpf = ['111.222.333-24', '222.333.444-34', '333.444.555-45', '555.777.888-68']\n",
    "lista_nome = ['Crementina', 'Judenilson', 'Claudete', 'Klodoaudo']\n",
    "\n",
    "while True:\n",
    "    print(30*'=', 'BEM VINDO AO PYTHON CADASTRO', 30*'=')\n",
    "    print('1. Cadastrar um novo usuário')\n",
    "    print('2. Acessar o Sistema')\n",
    "    print('3. Listar os usuários')\n",
    "    print('4. Excluir o usuário')\n",
    "    print('5. Sair')\n",
    "\n",
    "    opcao = input('Digite sua opção: ')\n",
    "\n",
    "    if opcao == '1':\n",
    "        novo_nome = input('Digite um nomvo nome que deseja cadastrar: ')\n",
    "        novo_cpf = input('Digite um novo cpf: ')\n",
    "\n",
    "        if novo_cpf in lista_cpf:\n",
    "            print('CPF já está cadastrado')\n",
    "        else:\n",
    "            lista_cpf.append(novo_cpf)\n",
    "            lista_nome.append(novo_nome)\n",
    "            print(f'CPF cadastrado com sucesso!')\n",
    "    elif opcao == '2':\n",
    "        cpf = input('Digite o seu cpf: ')\n",
    "\n",
    "        if cpf in lista_cpf:\n",
    "            print('Usuário logado com sucesso!')\n",
    "        else:\n",
    "            print('CPF invalido!')\n",
    "    elif opcao == '3':\n",
    "        print('Lista de Usuários!')\n",
    "\n",
    "        for i in lista_nome:\n",
    "            print(f'Usuário: {i}')\n",
    "    elif opcao == '4':\n",
    "        excluir_cpf = input('Digite o CPF que você deseja excluir: ')\n",
    "\n",
    "        if excluir_cpf in lista_cpf:\n",
    "            lista_cpf.remove('excluir_cpf')\n",
    "            print('CPF excluido com sucesso!')\n",
    "            time.sleep(3)\n",
    "        else:\n",
    "            print('CPF inválido!')\n",
    "    elif opcao == '5':\n",
    "        print('Saindo do sistema!')\n",
    "        time.sleep(3)\n",
    "        break\n",
    "    else:\n",
    "        print('Opção Invalida!')\n",
    "\n",
    "print('Você está fora do sistema!')"
   ]
  }
 ],
 "metadata": {
  "kernelspec": {
   "display_name": ".venv",
   "language": "python",
   "name": "python3"
  },
  "language_info": {
   "codemirror_mode": {
    "name": "ipython",
    "version": 3
   },
   "file_extension": ".py",
   "mimetype": "text/x-python",
   "name": "python",
   "nbconvert_exporter": "python",
   "pygments_lexer": "ipython3",
   "version": "3.12.4"
  }
 },
 "nbformat": 4,
 "nbformat_minor": 2
}
