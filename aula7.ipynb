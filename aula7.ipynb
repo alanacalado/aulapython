{
 "cells": [
  {
   "cell_type": "markdown",
   "metadata": {},
   "source": [
    "## While\n",
    "O while é um bloco que repete um algoritmo enquanto uma determinada condição for verdadeira. Vamos começar com uma demonstração bem simples: criar um programa que exibe uma contagem de 10 a 0 ... coisa simples\n"
   ]
  },
  {
   "cell_type": "code",
   "execution_count": 2,
   "metadata": {},
   "outputs": [
    {
     "name": "stdout",
     "output_type": "stream",
     "text": [
      "2\n",
      "contando\n",
      "4\n",
      "contando\n",
      "6\n",
      "contando\n",
      "8\n",
      "contando\n",
      "10\n",
      "contando\n"
     ]
    }
   ],
   "source": [
    "\n",
    "cont = 0\n",
    "while cont < 10:\n",
    "    cont += 1\n",
    "    if cont % 2 == 0:\n",
    "        print(cont)\n",
    "    else:\n",
    "        continue\n",
    "    print(\"contando\")"
   ]
  },
  {
   "cell_type": "markdown",
   "metadata": {},
   "source": [
    "# Continue\n",
    "\n",
    "O comando continue serve para que a execução do restante do bloco seja desconsiderada e o código ignorado. O loop terá sua contagem contabilizada e o programa retorna para o início do loop.\n"
   ]
  },
  {
   "cell_type": "code",
   "execution_count": 1,
   "metadata": {},
   "outputs": [
    {
     "name": "stdout",
     "output_type": "stream",
     "text": [
      "2\n",
      "contando\n",
      "4\n",
      "contando\n",
      "6\n",
      "contando\n",
      "8\n",
      "contando\n",
      "10\n",
      "contando\n"
     ]
    }
   ],
   "source": [
    "\n",
    "cont = 0\n",
    "while cont < 10:\n",
    "    cont += 1\n",
    "    if cont % 2 == 0:\n",
    "        print(cont)\n",
    "    else:\n",
    "        continue\n",
    "    print(\"contando\")"
   ]
  },
  {
   "cell_type": "markdown",
   "metadata": {},
   "source": [
    "## Break\n",
    "O comando break faz o contrário: encerra imediatamente o loop e vai para o final do programa, sem termninar o loop, mesmo que a condição esteja sendo atendida:\n"
   ]
  },
  {
   "cell_type": "code",
   "execution_count": 1,
   "metadata": {},
   "outputs": [
    {
     "name": "stdout",
     "output_type": "stream",
     "text": [
      "2\n",
      "contando...\n",
      "4\n",
      "contando...\n",
      "6\n",
      "contando...\n"
     ]
    }
   ],
   "source": [
    "cont = 0 \n",
    "\n",
    "while cont < 15:\n",
    "    cont += 1\n",
    "    if cont % 2 == 0 :\n",
    "        print(cont)\n",
    "    elif cont >= 7:\n",
    "        break\n",
    "    else:\n",
    "        continue\n",
    "\n",
    "    print('contando...')"
   ]
  },
  {
   "cell_type": "markdown",
   "metadata": {},
   "source": [
    "## Pass\n",
    "\n",
    "O comado pass é utilizado para o programa simplesmente pular uma determinada opção.Pode ser substituido por '...'"
   ]
  },
  {
   "cell_type": "code",
   "execution_count": 3,
   "metadata": {},
   "outputs": [
    {
     "name": "stdout",
     "output_type": "stream",
     "text": [
      "Contando... \n",
      "2\n",
      "Contando... \n",
      "Contando... \n",
      "4\n",
      "Contando... \n",
      "6\n",
      "Contando... \n",
      "8\n",
      "Contando... \n",
      "10\n",
      "Contando... \n",
      "12\n",
      "Contando... \n",
      "14\n",
      "Contando... \n"
     ]
    }
   ],
   "source": [
    "cont =0 \n",
    "while cont < 20:\n",
    "    cont += 1\n",
    "    if cont % 2 == 0:\n",
    "        print(cont)\n",
    "\n",
    "    elif cont< 5:\n",
    "        pass\n",
    "\n",
    "    elif cont >=15:\n",
    "        break\n",
    "\n",
    "    else:\n",
    "        continue\n",
    "    print(\"Contando... \")"
   ]
  },
  {
   "cell_type": "markdown",
   "metadata": {},
   "source": [
    "Exemplo com ... no lugar do pass "
   ]
  },
  {
   "cell_type": "code",
   "execution_count": 4,
   "metadata": {},
   "outputs": [
    {
     "name": "stdout",
     "output_type": "stream",
     "text": [
      "Contando... \n",
      "2\n",
      "Contando... \n",
      "Contando... \n",
      "4\n",
      "Contando... \n",
      "6\n",
      "Contando... \n",
      "8\n",
      "Contando... \n",
      "10\n",
      "Contando... \n",
      "12\n",
      "Contando... \n",
      "14\n",
      "Contando... \n"
     ]
    }
   ],
   "source": [
    "cont =0 \n",
    "while cont < 20:\n",
    "    cont += 1\n",
    "    if cont % 2 == 0:\n",
    "        print(cont)\n",
    "\n",
    "    elif cont< 5:\n",
    "        ...\n",
    "\n",
    "    elif cont >=15:\n",
    "        break\n",
    "\n",
    "    else:\n",
    "        continue\n",
    "    print(\"Contando... \")"
   ]
  },
  {
   "cell_type": "code",
   "execution_count": null,
   "metadata": {},
   "outputs": [],
   "source": [
    "import os\n",
    "import time\n",
    "\n",
    "cont = int(input(\"Digite um número inteiro: \"))\n",
    "\n",
    "while cont >=0:\n",
    "    os.system('cls') 3 Limpar o terminal\n",
    "    print(f'Contagem regressiva: {cont}...')\n",
    "    time.sleep(1) # atrasa o proximo comando\n",
    "    comt -= 1\n",
    "    "
   ]
  },
  {
   "cell_type": "markdown",
   "metadata": {},
   "source": [
    "Agora uma surpresa que poderá deixar os programadores de outras linguagens chocados : O PHYTON NÃO POSSUI O LAÇO DO ... WHILE. É isso mesmo: Não se faz o do ... while "
   ]
  },
  {
   "cell_type": "code",
   "execution_count": 5,
   "metadata": {},
   "outputs": [
    {
     "name": "stdout",
     "output_type": "stream",
     "text": [
      "Alana é maior de idade.\n",
      "Alana é maior de idade.\n"
     ]
    }
   ],
   "source": [
    "# loop\n",
    "while True:\n",
    "    # entrada do nome\n",
    "    nome = input('Informe o seu nome ou deixe em branco para sair: ')\n",
    "\n",
    "    #verifica se o valor foi informado ou não \n",
    "    if nome != '':\n",
    "        # entrada da idade\n",
    "        idade = int(input('Informe sua idade: '))\n",
    "        \n",
    "        # verificação da idade\n",
    "        if idade >= 18:\n",
    "            print(f'{nome} é maior de idade.')\n",
    "        else:\n",
    "            print(f'{nome} é menor de idade.')\n",
    "\n",
    "        continue # retorna ao inicio do loop\n",
    "    else:\n",
    "        break # encerra o loop"
   ]
  },
  {
   "cell_type": "code",
   "execution_count": 3,
   "metadata": {},
   "outputs": [
    {
     "name": "stdout",
     "output_type": "stream",
     "text": [
      "-------------------- Calculadora de IMC --------------------\n",
      "Alana você está acima do peso.⊙﹏⊙\n",
      "Ok,saindo do sistema!\n"
     ]
    }
   ],
   "source": [
    "\n",
    "while True:\n",
    "\n",
    "    opcao = input('Deseja calcular um IMC? (s/n): ').lower()\n",
    "    if opcao == \"s\":\n",
    "        print(20*'-','Calculadora de IMC',20*'-')\n",
    "        peso = input('Digite o seu peso: '.replace(',','.'))\n",
    "        peso = float(peso)\n",
    "        altura= input('Digite a sua altura: ').replace(',','.')\n",
    "        altura = float(altura)\n",
    "        calculo = (peso / (altura * altura))\n",
    "        nome = input('Digite seu nome: ')\n",
    "\n",
    "        if calculo < 17:\n",
    "            print(f'{nome} você está com anorexia.ಠ﹏ಠ')\n",
    "        elif calculo >17 and calculo <= 18.5:\n",
    "            print(f'{nome} você está abaixo do peso.ಠ╭╮ಠ')\n",
    "        elif calculo >18.5 and calculo <= 25:\n",
    "            print(f'{nome} você está no peso ideal.(●ˇ∀ˇ●)')\n",
    "        elif calculo >25 and calculo <= 30:\n",
    "            print(f'{nome} você está acima do peso.⊙﹏⊙')\n",
    "        elif calculo >30 and calculo <= 35:\n",
    "            print(f'{nome} você está com grau de obesidade I.(ㄒoㄒ)')\n",
    "        elif calculo >35 and calculo <= 40:\n",
    "            print(f'{nome} você está com grau de obesidade II.ಥ_ಥ')\n",
    "        else:\n",
    "            print(f'{nome} você está com obesidade morbida.X﹏X')\n",
    "        continue\n",
    "        \n",
    "    else:\n",
    "        print('Ok,saindo do sistema!')\n",
    "        break # encerrar o loop\n",
    "\n"
   ]
  },
  {
   "cell_type": "code",
   "execution_count": 6,
   "metadata": {},
   "outputs": [
    {
     "name": "stdout",
     "output_type": "stream",
     "text": [
      "Resultado da subtração:  24.0\n",
      "Calculadora finalizada\n"
     ]
    }
   ],
   "source": [
    "while True: \n",
    "    \n",
    "    operacao = input(\"Qual operação você quer fazer ? Usar '+' para soma, '-' para subtração, '/' para divisão, '*' para multiplicação, deixe em branco para encerar a calculadora \")\n",
    "\n",
    "\n",
    "    if operacao != \"\":\n",
    "        num1 = float(input(\"Digite o primeiro número: \"))\n",
    "        num2 = float(input(\"Digite o segundo número: \"))\n",
    "\n",
    "        if  operacao == '+':\n",
    "            print(\"Resultado da soma: \", num1 + num2)\n",
    "        elif operacao == '-':\n",
    "            print(\"Resultado da subtração: \", num1 - num2)\n",
    "        elif operacao == '/':\n",
    "            print(\"Resultado da divisão: \", num1 / num2)\n",
    "        else:\n",
    "            print(\"Resultado da multiplicação: \", num1 * num2)\n",
    "    else:\n",
    "        print(\"Calculadora finalizada\")\n",
    "        break"
   ]
  },
  {
   "cell_type": "markdown",
   "metadata": {},
   "source": [
    "2.Crie um programa que liste 5 salas de cinema, e mostre os filmes de cada uma das salas e suas classificações indicativas.O usuário deverá informar sua idade e a sala com o filme desejado. Caso o usuário tenha a idade mínima para ver o filme,o programa irá imprimir o ingresso para o filme desejado.Caso o usuário não tenha a idade minima, o programa deverá informar que ele não tem idade para ver o filme,e deverá retornar a lista de filmes para que o usuário escolha outro filme."
   ]
  },
  {
   "cell_type": "code",
   "execution_count": 7,
   "metadata": {},
   "outputs": [
    {
     "ename": "SyntaxError",
     "evalue": "invalid syntax. Perhaps you forgot a comma? (35154265.py, line 12)",
     "output_type": "error",
     "traceback": [
      "\u001b[1;36m  Cell \u001b[1;32mIn[7], line 12\u001b[1;36m\u001b[0m\n\u001b[1;33m    sala1 = (f'Pode assistir o filme 'Joelma no Pará'')\u001b[0m\n\u001b[1;37m             ^\u001b[0m\n\u001b[1;31mSyntaxError\u001b[0m\u001b[1;31m:\u001b[0m invalid syntax. Perhaps you forgot a comma?\n"
     ]
    }
   ],
   "source": [
    "while True:\n",
    "\n",
    "    opcao = input('Deseja comprar um ingresso? (s/n): ').lower()\n",
    "    if opcao == \"s\":\n",
    "        print(20*'-','Cinelandia Anaconda',20*'-')\n",
    "        nome = input(f'Digite o nome do(a) cliente:')\n",
    "        idade = int(input('Digite a idade:'))\n",
    "\n",
    "        bimestre3 = float(input(f'Digite o número da sala: '))\n",
    "\n",
    "\n",
    "        sala1 = (f'Pode assistir o filme 'Joelma no Pará'')\n",
    "        sala2 = (f'Pode assistir o filme 'O terror da Salsicha Ambulante'')\n",
    "        sala3 = (f'Pode assistir o filme 'Cachorro aquático voador'')\n",
    "        sala4 = (f'Pode assistir o filme 'O gigante feito de vento'')\n",
    "        sala5 = (f'Pode assistir o filme 'Marsha mata o Urso'')\n",
    "\n",
    "        idade1 = (sala1 >= 14)\n",
    "        idade2 = (sala2 >= 12)\n",
    "        idade3 = (sala3 >= 4)\n",
    "        idade4 = (sala4 >= 10)\n",
    "        idade5 = (sala5 >= 18)\n",
    "\n",
    "\n",
    "            print(f'Cliente : {nome} ')\n",
    "            print(f'Idade : {idade}')\n",
    "            \n",
    "\n",
    "            print(f'Filme: {sala1} - Classificação 14')\n",
    "            print(f'Filme: {sala2} - Classificação 12')\n",
    "            print(f'Filme: {sala3} - Classificação 4')\n",
    "            print(f'Filme: {sala4} - Classificação 10')\n",
    "            print(f'Filme: {sala5} - Classificação 18')\n",
    "\n",
    "            if sala1 >= 14:\n",
    "                print(f'Você pode assistir o filme : Joelma no Pará ! :)')\n",
    "\n",
    "            elif sala2 >= 12:\n",
    "                print(f'Você pode assistir o filme : O terror da Salsicha Ambulante! :)')\n",
    "            \n",
    "            elif sala3 >= 4:\n",
    "                print(f'Você pode assistir o filme : Cachorro aquático voador! :)')\n",
    "\n",
    "            elif sala4 >= 10:\n",
    "                print(f'Você pode assistir o filme : O gigante feito de vento! :)')\n",
    "                \n",
    "            elif sala4 >= 10:\n",
    "                print(f'Você pode assistir o filme : O gigante feito de vento! :)')\n",
    "            \n",
    "            else:\n",
    "                print(f'Poxa,tente outro filme :( ')\n",
    "            \n",
    "        \n",
    "\n",
    "    else:\n",
    "        print(f'O cliente não pode assistir esse filme,tente outro!')\n"
   ]
  },
  {
   "cell_type": "code",
   "execution_count": 5,
   "metadata": {},
   "outputs": [
    {
     "name": "stdout",
     "output_type": "stream",
     "text": [
      "-------------------- Cinelandia Anaconda --------------------\n",
      "Filmes disponíveis:\n",
      "1 - Joelma no Pará (Classificação 14)\n",
      "2 - O terror da Salsicha Ambulante (Classificação 12)\n",
      "3 - Cachorro aquático voador (Classificação 4)\n",
      "4 - O gigante feito de vento (Classificação 10)\n",
      "5 - Marsha mata o Urso (Classificação 18)\n",
      " \n",
      "Alana, você pode assistir ao filme Marsha mata o Urso!\n",
      "Até mais!\n",
      "INGRESSO\n",
      "{'Alana'}\n",
      "{18}\n",
      "{'Marsha mata o Urso'}\n"
     ]
    }
   ],
   "source": [
    "print(20*'-', 'Cinelandia Anaconda', 20*'-')\n",
    "nome = input('Digite o nome do(a) cliente: ')\n",
    "idade = int(input('Digite a idade: '))\n",
    "\n",
    "while True:\n",
    "    opcao = input('Deseja comprar um ingresso? (s/n): ').lower()\n",
    "    if opcao == \"s\":\n",
    "    \n",
    "        \n",
    "        print('Filmes disponíveis:')\n",
    "        if idade >= 14:\n",
    "            print('1 - Joelma no Pará (Classificação 14)')\n",
    "        if idade >= 12:\n",
    "            print('2 - O terror da Salsicha Ambulante (Classificação 12)')\n",
    "        if idade >= 4:\n",
    "            print('3 - Cachorro aquático voador (Classificação 4)')\n",
    "        if idade >= 10:\n",
    "            print('4 - O gigante feito de vento (Classificação 10)')\n",
    "        if idade >= 18:\n",
    "            print('5 - Marsha mata o Urso (Classificação 18)')\n",
    "\n",
    "        escolha = int(input('Digite o número da sala do filme desejado: '))\n",
    "\n",
    "        if escolha == 1 and idade >= 14:\n",
    "            print(\" \")\n",
    "            Filme = 'Joelma no Pará'\n",
    "            print(f'{nome}, você pode assistir ao filme Joelma no Pará!')\n",
    "        elif escolha == 2 and idade >= 12:\n",
    "            print(\" \")\n",
    "            Filme = 'O terror da Salsicha Ambulante'\n",
    "            print(f'{nome}, você pode assistir ao filme O terror da Salsicha Ambulante!')\n",
    "        elif escolha == 3 and idade >= 4:\n",
    "            print(\" \")\n",
    "            Filme = 'Cachorro aquático voador'\n",
    "            print(f'{nome}, você pode assistir ao filme Cachorro aquático voador!')\n",
    "        elif escolha == 4 and idade >= 10:\n",
    "            print(\" \")\n",
    "            Filme = 'O gigante feito de vento'\n",
    "            print(f'{nome}, você pode assistir ao filme O gigante feito de vento!')\n",
    "        elif escolha == 5 and idade >= 18:\n",
    "            print(\" \")\n",
    "            Filme = 'Marsha mata o Urso'\n",
    "            print(f'{nome}, você pode assistir ao filme Marsha mata o Urso!')\n",
    "        else:\n",
    "            print(\" \")\n",
    "            print('Poxa, você não pode assistir esse filme :(')\n",
    "\n",
    "    else:\n",
    "        print('Até mais!')\n",
    "        break\n",
    "\n",
    "print('INGRESSO')\n",
    "print({nome})\n",
    "print({idade})\n",
    "print({Filme})"
   ]
  }
 ],
 "metadata": {
  "kernelspec": {
   "display_name": ".venv",
   "language": "python",
   "name": "python3"
  },
  "language_info": {
   "codemirror_mode": {
    "name": "ipython",
    "version": 3
   },
   "file_extension": ".py",
   "mimetype": "text/x-python",
   "name": "python",
   "nbconvert_exporter": "python",
   "pygments_lexer": "ipython3",
   "version": "3.12.4"
  }
 },
 "nbformat": 4,
 "nbformat_minor": 2
}
