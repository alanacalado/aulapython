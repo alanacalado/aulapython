{
 "cells": [
  {
   "cell_type": "code",
   "execution_count": 7,
   "metadata": {},
   "outputs": [
    {
     "name": "stdout",
     "output_type": "stream",
     "text": [
      "if falso\n",
      "finalizou o codigo\n"
     ]
    }
   ],
   "source": [
    "programador = False\n",
    "\n",
    "if programador:\n",
    "  print('if é verdadeiro')\n",
    "  print('verdadeiro')\n",
    "\n",
    "else:\n",
    "  print(\"if falso\")\n",
    "\n",
    "print('finalizou o codigo')"
   ]
  },
  {
   "cell_type": "code",
   "execution_count": 15,
   "metadata": {},
   "outputs": [
    {
     "name": "stdout",
     "output_type": "stream",
     "text": [
      "Pode brincar na montanha russa!\n"
     ]
    }
   ],
   "source": [
    "idade = 22\n",
    "altura = 1.65\n",
    "# and\n",
    "# or\n",
    "\n",
    "if idade >= 18 or altura > 1.60: \n",
    "    print('Pode brincar na montanha russa!')\n",
    "\n",
    "else:\n",
    "    print(' Não pode brincar na montanhar russa!')"
   ]
  },
  {
   "cell_type": "markdown",
   "metadata": {},
   "source": [
    "## Desafio \n",
    "- Usando o conceito de operadores e if else, crie um programa que verifica se o numero é par ou impar"
   ]
  },
  {
   "cell_type": "markdown",
   "metadata": {},
   "source": []
  },
  {
   "cell_type": "code",
   "execution_count": 35,
   "metadata": {},
   "outputs": [
    {
     "name": "stdout",
     "output_type": "stream",
     "text": [
      "O número 18426582006411785422 , é um número par!\n"
     ]
    }
   ],
   "source": [
    "numero = int(input('Digite um número:'))\n",
    "\n",
    "# verifica se o resto da divisao do numero por 2 é igual a 0 \n",
    "if numero % 2 == 0:\n",
    "    print(f'O número {numero} , é um número par!')\n",
    "\n",
    "else:\n",
    "    print(f'O número {numero} , é um número impar!')"
   ]
  },
  {
   "cell_type": "markdown",
   "metadata": {},
   "source": [
    "## Desafio 2\n",
    "- Um elevador de carga possui capacidadepara 200kg.\n",
    "    -Crie um programa que receba do usuario o peso de carga, ou seu peso e verifica se a carga esta autorizada a usar o elevador ou não."
   ]
  },
  {
   "cell_type": "code",
   "execution_count": 34,
   "metadata": {},
   "outputs": [
    {
     "name": "stdout",
     "output_type": "stream",
     "text": [
      "Pode entrar no elevador!\n"
     ]
    }
   ],
   "source": [
    "peso = int(input(f'Digite seu peso atual:'))\n",
    "carga = int(input(f'Digite o valor da carga que você carrega, se tiver :'))\n",
    "\n",
    "soma = peso + carga\n",
    "\n",
    "# verifica se a soma é menor ou igual a 200\n",
    "if soma <= 200:\n",
    "    print(f'Pode entrar no elevador!')\n",
    "\n",
    "else:\n",
    "    print(f'Só a carga entra no elevador!')"
   ]
  },
  {
   "cell_type": "code",
   "execution_count": 38,
   "metadata": {},
   "outputs": [
    {
     "name": "stdout",
     "output_type": "stream",
     "text": [
      "O Cleitinho das Dores Silva está reprovado\n"
     ]
    }
   ],
   "source": [
    "nome = 'Cleitinho das Dores Silva'\n",
    "nota = 4\n",
    "\n",
    "if nota >= 7:\n",
    "    print(f'O {nome} foi aprovado!')\n",
    "elif nota >= 5:\n",
    "    print(f\"O {nome} esta de recuperação!\")\n",
    "else:\n",
    "    print(f'O {nome} está reprovado')\n"
   ]
  },
  {
   "cell_type": "markdown",
   "metadata": {},
   "source": [
    "## Desafio 3\n",
    "- Crie um sistema para coletar os dados do aluno, (nome, idade, cpf), em seguida solicite as notas dos 4 bimestres da diciplina de Python que o aluno teve para verificar a MEDIA.\n",
    "    - Media para aprovação >= 7\n",
    "    - Media para recuperação >= 5\n",
    "    - Media para reprovação = <5\n",
    "- Para retirar o boletim de notas, o aluno precisa ser maior de idade(18) e caso não seja, somente os pais podem retirar o boletim.\n",
    "    - Imprima as informações do aluno\n",
    "    - Imprima as notas do aluno em cada bimestre\n",
    "    - Imprima a situação do aluno (aprovado, reprovado, recuperação)\n",
    "    - Imprima se o boletim sera retirado pelos pais ou pelo proprio aluno"
   ]
  },
  {
   "cell_type": "code",
   "execution_count": 9,
   "metadata": {},
   "outputs": [
    {
     "name": "stdout",
     "output_type": "stream",
     "text": [
      "O aluno pode imprimir as notas!\n",
      "------------------------------ BOLETIM ESCOLAR ------------------------------\n",
      "Aluno(a) : Alana Calado\n",
      "Idade : 22\n",
      "CPF : 0284793\n",
      "Nota do 1° Bimestre: 10.0\n",
      "Nota do 2° Bimestre: 8.0\n",
      "Nota do 3° Bimestre : 9.0\n",
      "Nota do 4° Bimestre : 8.0\n",
      "A média é:8.75\n",
      "O aluno foi aprovado! :)\n"
     ]
    }
   ],
   "source": [
    "nome = input(f'Digite o nome do (a) aluno (a):')\n",
    "sobrenome = input(f'Digite o sobrenome do(a) aluno(a):')\n",
    "idade = int(input('Digite a idade:'))\n",
    "cpf = input(f'Digite o cpf: ')\n",
    "\n",
    "bimestre1 = float(input(f'Digite a nota do primeiro bimestre: '))\n",
    "bimestre2 = float(input(f'Digite a nota do segundo bimestre: '))\n",
    "bimestre3 = float(input(f'Digite a nota do terceiro bimestre: '))\n",
    "bimestre4 = float(input(f'Digite a nota do quarto bimestre: '))\n",
    "\n",
    "media = (bimestre1 + bimestre2 + bimestre3 + bimestre4) / 4\n",
    "\n",
    "\n",
    "\n",
    "\n",
    "if idade >= 18:\n",
    "    print(f'O aluno pode imprimir as notas!')\n",
    "    print(30*\"-\",\"BOLETIM ESCOLAR\" , 30*\"-\" )\n",
    "\n",
    "    print(f'Aluno(a) : {nome} {sobrenome}')\n",
    "    print(f'Idade : {idade}')\n",
    "    print(f'CPF : {cpf}')\n",
    "\n",
    "\n",
    "    print(f'Nota do 1° Bimestre: {bimestre1}')\n",
    "    print(f'Nota do 2° Bimestre: {bimestre2}')\n",
    "    print(f'Nota do 3° Bimestre : {bimestre3}')\n",
    "    print(f'Nota do 4° Bimestre : {bimestre4}')\n",
    "    print(f'A média é:{media}')\n",
    "\n",
    "    if media >= 7:\n",
    "        print(f'O aluno foi aprovado! :)')\n",
    "\n",
    "    elif media >= 5:\n",
    "        print(f'O aluno está de recuperação! :P ')\n",
    "\n",
    "    else:\n",
    "        print(f'O aluno está reporvado! :( )')\n",
    "       \n",
    "  \n",
    "\n",
    "else:\n",
    "    print(f'O aluno não pode imprimir as notas!')\n"
   ]
  }
 ],
 "metadata": {
  "kernelspec": {
   "display_name": ".venv",
   "language": "python",
   "name": "python3"
  },
  "language_info": {
   "codemirror_mode": {
    "name": "ipython",
    "version": 3
   },
   "file_extension": ".py",
   "mimetype": "text/x-python",
   "name": "python",
   "nbconvert_exporter": "python",
   "pygments_lexer": "ipython3",
   "version": "3.12.4"
  }
 },
 "nbformat": 4,
 "nbformat_minor": 2
}
